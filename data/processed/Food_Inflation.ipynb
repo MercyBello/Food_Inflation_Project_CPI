{
 "cells": [
  {
   "cell_type": "markdown",
   "id": "0fb31935-1ad9-4400-9251-fa4e074b603b",
   "metadata": {},
   "source": [
    "# UK Food CPI (MoM%) Forecast\n",
    "\n",
    "\n",
    "## Project Summary\n",
    "\n",
    "This Analysis utilizes the **UK Consumer Price Index (CPI) - Food and Non-Alcoholic Beverages** monthly rae time series. The data was cleaned and **EDA** performed on it, to give a **short-term predicion** using some selected models **(Naive, Seasonal-Naive, SARIMA,** and **Prophet).**\n",
    "Prediction outputs would be saved and visualized in **Streamlit** app.\n",
    "\n",
    "## Skills Demonstrated \n",
    "- Data Cleaning (Using Official statistics/monhly time series)\n",
    "- Exploratory Data Analysis **(EDA).**\n",
    "- Prediction **(Naive, Seasonal, SARIMA,** and **Prophet)**\n",
    "- Model evaluation **(MAPE, RSME)**\n",
    "- Logical communication and thinking ()"
   ]
  },
  {
   "cell_type": "markdown",
   "id": "9fbf1772-499d-4769-9980-ada3e5dc4975",
   "metadata": {},
   "source": [
    "## Function Declaration"
   ]
  },
  {
   "cell_type": "code",
   "execution_count": 49,
   "id": "737f988f-4d4f-4414-9a5f-0351aa28d9fc",
   "metadata": {},
   "outputs": [],
   "source": [
    "# Importing neccessary libraries\n",
    "import pandas as pd, numpy as np\n",
    "import re\n",
    "import matplotlib.pyplot as plt\n",
    "from pathlib import Path"
   ]
  },
  {
   "cell_type": "code",
   "execution_count": 50,
   "id": "0412cffa-a6d7-47c3-bfaf-12d131cfc708",
   "metadata": {},
   "outputs": [],
   "source": [
    "def load_csv_file(file_path, col_names=['label', 'value'], header_row=0, preview_rows=10):\n",
    "    \"\"\"\n",
    "    Loads a CSV file into a pandas DataFrame with chosen column names and preview.\n",
    "\n",
    "    Parameters:\n",
    "    - file_path (str): The path of the CSV file.\n",
    "    - col_names (list): Column names to assign to the DataFrame.\n",
    "    - header_row (int): Row number to treat as header (0 = first row).\n",
    "    - preview_rows (int): Number of rows to print for preview.\n",
    "\n",
    "    Returns:\n",
    "    - pd.DataFrame: Loaded DataFrame.\n",
    "    \"\"\"\n",
    "    df = pd.read_csv(file_path, names=col_names, header=header_row)\n",
    "    print(df.head(preview_rows))\n",
    "    return df\n"
   ]
  },
  {
   "cell_type": "markdown",
   "id": "cdbe1668-99ae-4c8e-85d6-08339641b35d",
   "metadata": {},
   "source": [
    "## 1) Load and clean the dataset to a straightforward data for usability purpose\n",
    "\n",
    "The dataset will be cleaned and saved into a new CSV file to avoid alteration of the original dataset. The new CSV file will contain date (in proper formats), category and value(MoM%) for the **UK Consumer Price Index (CPI) - Food and Non-Alcoholic Beverages.**"
   ]
  },
  {
   "cell_type": "code",
   "execution_count": 51,
   "id": "41d7fafe-0f93-4388-aa0a-a33fa4cf7814",
   "metadata": {},
   "outputs": [
    {
     "name": "stdout",
     "output_type": "stream",
     "text": [
      "               label            value\n",
      "0               CDID             D7JH\n",
      "1  Source dataset ID             MM23\n",
      "2            PreUnit              NaN\n",
      "3               Unit                %\n",
      "4       Release date       17-09-2025\n",
      "5       Next release  22 October 2025\n",
      "6    Important notes              NaN\n",
      "7           1988 FEB              0.6\n",
      "8           1988 MAR              0.3\n",
      "9           1988 APR              0.6\n"
     ]
    }
   ],
   "source": [
    "# Loads the original data\n",
    "df_original = load_csv_file(\"series-270925.csv\")"
   ]
  },
  {
   "cell_type": "code",
   "execution_count": 52,
   "id": "13ceb3e9-b996-45f5-9748-572d7d961c6b",
   "metadata": {},
   "outputs": [
    {
     "name": "stdout",
     "output_type": "stream",
     "text": [
      "First index data row = row 7\n"
     ]
    }
   ],
   "source": [
    "# The re(regex) module is used to ge rows that matches the YYY MON format\n",
    "mask = df_original['label'].str.match(r\"^\\d{4}\\s+[A-Z]{3}$\", na = False) \n",
    "\n",
    "# Gets the first index that starts with he proper required data\n",
    "first_idx = mask.idxmax()\n",
    "print (f'First index data row = row {first_idx}')\n",
    "\n",
    "# The work dataframe starts from there\n",
    "cpi_data = df_original.loc[first_idx:].copy()"
   ]
  },
  {
   "cell_type": "code",
   "execution_count": 53,
   "id": "ea86ce20-bb99-4583-a7bf-f7b1766d2403",
   "metadata": {},
   "outputs": [],
   "source": [
    "# The date column is cleaned using the following code\n",
    "cpi_data['date'] = pd.to_datetime(cpi_data['label'], format='%Y %b')\n",
    "\n",
    "# The value column is coverted to a numeric format\n",
    "cpi_data['value'] = pd.to_numeric(cpi_data['value'], errors = 'coerce')\n",
    "\n",
    "# The odd column attributes labels are dropped\n",
    "cpi_data = cpi_data.drop(columns = ['label'])"
   ]
  },
  {
   "cell_type": "code",
   "execution_count": 54,
   "id": "f7bfd8fc-29a2-4882-b14f-5b196b71b2f2",
   "metadata": {},
   "outputs": [],
   "source": [
    "# A new labelling will be inputed to clarify what these series represent\n",
    "cpi_data['category'] = 'Consumer Food (MoM%)'\n",
    "\n",
    "# Columns are re arranged to a standard usable format\n",
    "cpi_data = cpi_data[['date', 'category', 'value']]\n",
    "\n",
    "# Rows index are sorted by date\n",
    "cpi_data = cpi_data.sort_values('date').reset_index(drop = True)"
   ]
  },
  {
   "cell_type": "code",
   "execution_count": 55,
   "id": "d45ca73a-5ace-4583-b56a-9993b973276b",
   "metadata": {},
   "outputs": [
    {
     "name": "stdout",
     "output_type": "stream",
     "text": [
      "Cleaning Completed and saved as, cleaned_cpi.csv\n"
     ]
    }
   ],
   "source": [
    "# A new labelling will be inputed to clarify what these series represent\n",
    "output_path = 'cleaned_cpi.csv'\n",
    "cpi_data.to_csv(output_path, index = False)\n",
    "\n",
    "print (f'Cleaning Completed and saved as, {output_path}')"
   ]
  },
  {
   "cell_type": "code",
   "execution_count": 56,
   "id": "c14f7d13-bd93-4235-8bfb-4b21cf97d837",
   "metadata": {},
   "outputs": [
    {
     "name": "stdout",
     "output_type": "stream",
     "text": [
      "         date              category  value\n",
      "0  1988-02-01  Consumer Food (MoM%)    0.6\n",
      "1  1988-03-01  Consumer Food (MoM%)    0.3\n",
      "2  1988-04-01  Consumer Food (MoM%)    0.6\n",
      "3  1988-05-01  Consumer Food (MoM%)    0.3\n",
      "4  1988-06-01  Consumer Food (MoM%)    0.2\n",
      "5  1988-07-01  Consumer Food (MoM%)   -0.9\n",
      "6  1988-08-01  Consumer Food (MoM%)    0.5\n",
      "7  1988-09-01  Consumer Food (MoM%)    0.4\n",
      "8  1988-10-01  Consumer Food (MoM%)    0.2\n",
      "9  1988-11-01  Consumer Food (MoM%)    0.7\n"
     ]
    }
   ],
   "source": [
    "cleaned_cpi = load_csv_file(\"cleaned_cpi.csv\", col_names=[\"date\", \"category\", \"value\"])"
   ]
  },
  {
   "cell_type": "code",
   "execution_count": null,
   "id": "fedfa740-eb90-4a74-9793-ad9f1055aef3",
   "metadata": {},
   "outputs": [],
   "source": []
  }
 ],
 "metadata": {
  "kernelspec": {
   "display_name": "Python 3 (ipykernel)",
   "language": "python",
   "name": "python3"
  },
  "language_info": {
   "codemirror_mode": {
    "name": "ipython",
    "version": 3
   },
   "file_extension": ".py",
   "mimetype": "text/x-python",
   "name": "python",
   "nbconvert_exporter": "python",
   "pygments_lexer": "ipython3",
   "version": "3.13.3"
  }
 },
 "nbformat": 4,
 "nbformat_minor": 5
}
